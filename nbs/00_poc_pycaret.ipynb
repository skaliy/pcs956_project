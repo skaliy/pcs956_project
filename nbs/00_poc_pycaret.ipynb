{
 "cells": [
  {
   "cell_type": "markdown",
   "id": "d77e9c1c-cc55-4b2a-94d5-60cb322f3492",
   "metadata": {},
   "source": [
    "# Title "
   ]
  },
  {
   "cell_type": "code",
   "execution_count": null,
   "id": "b4a4393b-d96b-475d-bedc-bd5147a19e14",
   "metadata": {},
   "outputs": [],
   "source": [
    "import pandas as pd \n",
    "from pathlib import Path \n",
    "#todo import pycaret"
   ]
  },
  {
   "cell_type": "code",
   "execution_count": null,
   "id": "b00a695d-39eb-44e0-8c6e-572009b69e08",
   "metadata": {},
   "outputs": [],
   "source": [
    "path = Path('../data')"
   ]
  },
  {
   "cell_type": "code",
   "execution_count": null,
   "id": "4bfac7ba-76e6-43ff-9e7b-a4239f08d2b4",
   "metadata": {},
   "outputs": [],
   "source": [
    "df = pd.read_csv(path/'pcs_data.csv')"
   ]
  },
  {
   "cell_type": "code",
   "execution_count": null,
   "id": "0fbbb6f9-6860-40cf-83c0-a28d8790a932",
   "metadata": {},
   "outputs": [
    {
     "data": {
      "text/html": [
       "<div>\n",
       "<style scoped>\n",
       "    .dataframe tbody tr th:only-of-type {\n",
       "        vertical-align: middle;\n",
       "    }\n",
       "\n",
       "    .dataframe tbody tr th {\n",
       "        vertical-align: top;\n",
       "    }\n",
       "\n",
       "    .dataframe thead th {\n",
       "        text-align: right;\n",
       "    }\n",
       "</style>\n",
       "<table border=\"1\" class=\"dataframe\">\n",
       "  <thead>\n",
       "    <tr style=\"text-align: right;\">\n",
       "      <th></th>\n",
       "      <th>Concentration(%wt)</th>\n",
       "      <th>Flow rate(kg/h)</th>\n",
       "      <th>Re</th>\n",
       "      <th>labels</th>\n",
       "    </tr>\n",
       "  </thead>\n",
       "  <tbody>\n",
       "    <tr>\n",
       "      <th>0</th>\n",
       "      <td>6.4</td>\n",
       "      <td>330</td>\n",
       "      <td>4027</td>\n",
       "      <td>np</td>\n",
       "    </tr>\n",
       "    <tr>\n",
       "      <th>1</th>\n",
       "      <td>6.0</td>\n",
       "      <td>400</td>\n",
       "      <td>4885</td>\n",
       "      <td>np</td>\n",
       "    </tr>\n",
       "    <tr>\n",
       "      <th>2</th>\n",
       "      <td>6.5</td>\n",
       "      <td>400</td>\n",
       "      <td>4880</td>\n",
       "      <td>np</td>\n",
       "    </tr>\n",
       "    <tr>\n",
       "      <th>3</th>\n",
       "      <td>7.0</td>\n",
       "      <td>1700</td>\n",
       "      <td>20720</td>\n",
       "      <td>np</td>\n",
       "    </tr>\n",
       "    <tr>\n",
       "      <th>4</th>\n",
       "      <td>7.0</td>\n",
       "      <td>1200</td>\n",
       "      <td>14630</td>\n",
       "      <td>np</td>\n",
       "    </tr>\n",
       "  </tbody>\n",
       "</table>\n",
       "</div>"
      ],
      "text/plain": [
       "   Concentration(%wt)  Flow rate(kg/h)     Re labels\n",
       "0                 6.4              330   4027     np\n",
       "1                 6.0              400   4885     np\n",
       "2                 6.5              400   4880     np\n",
       "3                 7.0             1700  20720     np\n",
       "4                 7.0             1200  14630     np"
      ]
     },
     "execution_count": null,
     "metadata": {},
     "output_type": "execute_result"
    }
   ],
   "source": [
    "df.head()"
   ]
  },
  {
   "cell_type": "code",
   "execution_count": null,
   "id": "073d6ad0-21cd-4aee-b780-b44f3179ca45",
   "metadata": {},
   "outputs": [
    {
     "data": {
      "text/html": [
       "<div>\n",
       "<style scoped>\n",
       "    .dataframe tbody tr th:only-of-type {\n",
       "        vertical-align: middle;\n",
       "    }\n",
       "\n",
       "    .dataframe tbody tr th {\n",
       "        vertical-align: top;\n",
       "    }\n",
       "\n",
       "    .dataframe thead th {\n",
       "        text-align: right;\n",
       "    }\n",
       "</style>\n",
       "<table border=\"1\" class=\"dataframe\">\n",
       "  <thead>\n",
       "    <tr style=\"text-align: right;\">\n",
       "      <th></th>\n",
       "      <th>Concentration(%wt)</th>\n",
       "      <th>Flow rate(kg/h)</th>\n",
       "      <th>Re</th>\n",
       "    </tr>\n",
       "  </thead>\n",
       "  <tbody>\n",
       "    <tr>\n",
       "      <th>count</th>\n",
       "      <td>15.000000</td>\n",
       "      <td>15.000000</td>\n",
       "      <td>15.000000</td>\n",
       "    </tr>\n",
       "    <tr>\n",
       "      <th>mean</th>\n",
       "      <td>6.813333</td>\n",
       "      <td>855.333333</td>\n",
       "      <td>10446.600000</td>\n",
       "    </tr>\n",
       "    <tr>\n",
       "      <th>std</th>\n",
       "      <td>3.119264</td>\n",
       "      <td>500.355112</td>\n",
       "      <td>6146.713765</td>\n",
       "    </tr>\n",
       "    <tr>\n",
       "      <th>min</th>\n",
       "      <td>1.000000</td>\n",
       "      <td>330.000000</td>\n",
       "      <td>4027.000000</td>\n",
       "    </tr>\n",
       "    <tr>\n",
       "      <th>25%</th>\n",
       "      <td>6.200000</td>\n",
       "      <td>400.000000</td>\n",
       "      <td>4879.000000</td>\n",
       "    </tr>\n",
       "    <tr>\n",
       "      <th>50%</th>\n",
       "      <td>6.900000</td>\n",
       "      <td>700.000000</td>\n",
       "      <td>8531.000000</td>\n",
       "    </tr>\n",
       "    <tr>\n",
       "      <th>75%</th>\n",
       "      <td>7.100000</td>\n",
       "      <td>1350.000000</td>\n",
       "      <td>16505.000000</td>\n",
       "    </tr>\n",
       "    <tr>\n",
       "      <th>max</th>\n",
       "      <td>14.000000</td>\n",
       "      <td>1700.000000</td>\n",
       "      <td>20720.000000</td>\n",
       "    </tr>\n",
       "  </tbody>\n",
       "</table>\n",
       "</div>"
      ],
      "text/plain": [
       "       Concentration(%wt)  Flow rate(kg/h)            Re\n",
       "count           15.000000        15.000000     15.000000\n",
       "mean             6.813333       855.333333  10446.600000\n",
       "std              3.119264       500.355112   6146.713765\n",
       "min              1.000000       330.000000   4027.000000\n",
       "25%              6.200000       400.000000   4879.000000\n",
       "50%              6.900000       700.000000   8531.000000\n",
       "75%              7.100000      1350.000000  16505.000000\n",
       "max             14.000000      1700.000000  20720.000000"
      ]
     },
     "execution_count": null,
     "metadata": {},
     "output_type": "execute_result"
    }
   ],
   "source": [
    "df.describe()"
   ]
  },
  {
   "cell_type": "code",
   "execution_count": null,
   "id": "f73906ec-3613-4555-b0b0-db481a7301fe",
   "metadata": {},
   "outputs": [
    {
     "data": {
      "text/plain": [
       "np     8\n",
       "tsp    7\n",
       "Name: labels, dtype: int64"
      ]
     },
     "execution_count": null,
     "metadata": {},
     "output_type": "execute_result"
    }
   ],
   "source": [
    "df.labels.value_counts()"
   ]
  },
  {
   "cell_type": "markdown",
   "id": "4d24b545-1b78-4f11-a997-52404deba300",
   "metadata": {},
   "source": [
    "### 5 fold cross-validation"
   ]
  },
  {
   "cell_type": "code",
   "execution_count": null,
   "id": "a8aba05e-9ab2-43a2-866d-ff1f19f89243",
   "metadata": {},
   "outputs": [],
   "source": []
  },
  {
   "cell_type": "code",
   "execution_count": null,
   "id": "a7633f18-21d7-470d-9897-a7da6d7fb2f8",
   "metadata": {},
   "outputs": [],
   "source": []
  }
 ],
 "metadata": {
  "kernelspec": {
   "display_name": "fastmonai",
   "language": "python",
   "name": "fastmonai"
  }
 },
 "nbformat": 4,
 "nbformat_minor": 5
}
